{
 "cells": [
  {
   "cell_type": "markdown",
   "metadata": {},
   "source": [
    "# Intercalating DNA stain filters\n",
    "\n",
    "Given incomplete knowledge on sources/spectra of BG, what order should we try filters in when testing signal:BG in DNA-dye:bead experiments (Mei, [#202 Can we detect DNA for 50:1 beads using intercalating dyes on 2D surface?](https://docs.google.com/presentation/d/1Ut4rE0M3jk5m7Pff9tvPUMrRx8rpigkMFiaEEKNk0V8/edit?ts=59536f70#slide=id.g21e8f54bd7_0_5))\n"
   ]
  },
  {
   "cell_type": "code",
   "execution_count": 30,
   "metadata": {
    "collapsed": true
   },
   "outputs": [],
   "source": [
    "import os\n",
    "import numpy as np\n",
    "import matplotlib.pyplot as plt\n",
    "\n",
    "from dye import Dye\n",
    "from laser import Laser\n",
    "from filterCube import FilterCube\n",
    "from camera import Camera\n",
    "from objective import Objective\n",
    "import utils\n",
    "from crosstalk_analysis import signalFromDyeXInChannelY\n",
    "from crosstalk_analysis import displayCrosstalkPlot\n",
    "\n",
    "%matplotlib notebook\n",
    "\n",
    "dyesPath = 'Dye spectra/'\n",
    "filtersPath = 'Filter spectra/'\n",
    "opticsPath =  'Optics spectra/'\n",
    "cameraPath = 'Camera spectra/'"
   ]
  },
  {
   "cell_type": "markdown",
   "metadata": {},
   "source": [
    "Initialise dyes and filter cubes. \n",
    "\n",
    "Sources: \n",
    "\n",
    "http://solioz-scientific.ch/knowledge/SYBR_green_I.pdf\n",
    "http://theinstituteoffluorescence.com/Publication%202/JoFL%20paper.pdf\n",
    "https://www.ncbi.nlm.nih.gov/pmc/articles/PMC2532517/\n",
    "\n"
   ]
  },
  {
   "cell_type": "code",
   "execution_count": 9,
   "metadata": {
    "collapsed": false
   },
   "outputs": [],
   "source": [
    "dyeSG = Dye(name = 'SYBR Green', epsilon = 75000, qy = 0.8, \n",
    "             absSpectrum = os.path.join(dyesPath, 'SYBRGreen.abs.txt'), \n",
    "             emSpectrum = os.path.join(dyesPath, 'SYBRGreen.ems.txt'))\n",
    "\n",
    "dyeYOYO = Dye(name = 'YOYO-1', epsilon = 98900, qy = 0.52, \n",
    "             absSpectrum = os.path.join(dyesPath, 'YOYO1.abs.txt'), \n",
    "             emSpectrum = os.path.join(dyesPath, 'YOYO1.ems.txt'))\n",
    "\n",
    "l488 = Laser(channel = 'L488Nm', centreWavelengthNm = 488, fwhmNm = 0.01, \n",
    "             laserOutputPowerMw = 10)\n",
    "\n",
    "cube517 = FilterCube(channel = '517/20 filter', \n",
    "                   excitationFilter = ( 'FF01-482_18', os.path.join(filtersPath, 'FF02-482_18_Spectrum.txt') ), \n",
    "                   dichroicFilter = ( 'Di02-R488', os.path.join(filtersPath, 'Di02-R488_Spectrum.txt') ), \n",
    "                   emissionFilter = ( 'FF01-517_20', os.path.join(filtersPath, 'FF01-517_20_Spectrum.txt') ) )\n",
    "\n",
    "cube532 = FilterCube(channel = '532/10, narrowest available', \n",
    "                   excitationFilter = ( 'FF01-482_18', os.path.join(filtersPath, 'FF02-482_18_Spectrum.txt') ), \n",
    "                   dichroicFilter = ( 'Di02-R488', os.path.join(filtersPath, 'Di02-R488_Spectrum.txt') ), \n",
    "                   emissionFilter = ( 'Chroma 532_10', os.path.join(filtersPath, 'Chroma 532_10.txt') ) )\n",
    "\n",
    "cubeClaire = FilterCube(channel = '534/20, close to Claire spec', \n",
    "                   excitationFilter = ( 'FF01-482_18', os.path.join(filtersPath, 'FF02-482_18_Spectrum.txt') ), \n",
    "                   dichroicFilter = ( 'Di02-R488', os.path.join(filtersPath, 'Di02-R488_Spectrum.txt') ), \n",
    "                   emissionFilter = ( 'FF01-534_20', os.path.join(filtersPath, 'FF01-534_20_Spectrum.txt') ) )\n",
    "\n",
    "camera = Camera(name = 'Andor Zyla 5.5', \n",
    "                qeCurve = os.path.join(cameraPath, 'Camera sCMOS (Andor- Zyla 5.5).txt'))\n",
    "\n",
    "objective = Objective(name = 'Olympus UPLANSAPO20x 0.75NA', \n",
    "                      transmissionCurve = os.path.join(opticsPath, 'Olympus UPLANSAPO20x.txt'))"
   ]
  },
  {
   "cell_type": "code",
   "execution_count": 32,
   "metadata": {
    "collapsed": false
   },
   "outputs": [
    {
     "ename": "NameError",
     "evalue": "name 'ax' is not defined",
     "output_type": "error",
     "traceback": [
      "\u001b[1;31m---------------------------------------------------------------------------\u001b[0m",
      "\u001b[1;31mNameError\u001b[0m                                 Traceback (most recent call last)",
      "\u001b[1;32m<ipython-input-32-8f6b22555273>\u001b[0m in \u001b[0;36m<module>\u001b[1;34m()\u001b[0m\n\u001b[0;32m     10\u001b[0m         \u001b[0msig\u001b[0m\u001b[1;33m.\u001b[0m\u001b[0mappend\u001b[0m\u001b[1;33m(\u001b[0m\u001b[0msignalFromDyeXInChannelY\u001b[0m\u001b[1;33m(\u001b[0m\u001b[0ml488\u001b[0m\u001b[1;33m,\u001b[0m \u001b[0mcube\u001b[0m\u001b[1;33m,\u001b[0m \u001b[0mdye\u001b[0m\u001b[1;33m,\u001b[0m \u001b[0mobjective\u001b[0m\u001b[1;33m,\u001b[0m \u001b[0mcamera\u001b[0m\u001b[1;33m)\u001b[0m\u001b[1;33m[\u001b[0m\u001b[1;36m2\u001b[0m\u001b[1;33m]\u001b[0m\u001b[1;33m)\u001b[0m\u001b[1;33m\u001b[0m\u001b[0m\n\u001b[0;32m     11\u001b[0m     \u001b[0mx\u001b[0m \u001b[1;33m=\u001b[0m \u001b[0mnp\u001b[0m\u001b[1;33m.\u001b[0m\u001b[0mlinspace\u001b[0m\u001b[1;33m(\u001b[0m\u001b[1;36m1\u001b[0m\u001b[1;33m,\u001b[0m\u001b[0mlen\u001b[0m\u001b[1;33m(\u001b[0m\u001b[0mcubes\u001b[0m\u001b[1;33m)\u001b[0m\u001b[1;33m,\u001b[0m \u001b[0mlen\u001b[0m\u001b[1;33m(\u001b[0m\u001b[0mcubes\u001b[0m\u001b[1;33m)\u001b[0m\u001b[1;33m)\u001b[0m\u001b[1;33m\u001b[0m\u001b[0m\n\u001b[1;32m---> 12\u001b[1;33m     \u001b[0max\u001b[0m \u001b[1;33m=\u001b[0m \u001b[0mplt\u001b[0m\u001b[1;33m.\u001b[0m\u001b[0msubplot\u001b[0m\u001b[1;33m(\u001b[0m\u001b[1;36m1\u001b[0m\u001b[1;33m,\u001b[0m \u001b[0mlen\u001b[0m\u001b[1;33m(\u001b[0m\u001b[0mdyes\u001b[0m\u001b[1;33m)\u001b[0m\u001b[1;33m,\u001b[0m \u001b[0midx\u001b[0m\u001b[1;33m+\u001b[0m\u001b[1;36m1\u001b[0m\u001b[1;33m,\u001b[0m \u001b[0msharey\u001b[0m\u001b[1;33m=\u001b[0m\u001b[0max\u001b[0m\u001b[1;33m)\u001b[0m\u001b[1;33m\u001b[0m\u001b[0m\n\u001b[0m\u001b[0;32m     13\u001b[0m     \u001b[0mplt\u001b[0m\u001b[1;33m.\u001b[0m\u001b[0mbar\u001b[0m\u001b[1;33m(\u001b[0m\u001b[0mx\u001b[0m\u001b[1;33m,\u001b[0m \u001b[0msig\u001b[0m\u001b[1;33m,\u001b[0m \u001b[0mtick_label\u001b[0m\u001b[1;33m=\u001b[0m\u001b[0mcubelist\u001b[0m\u001b[1;33m,\u001b[0m \u001b[0malign\u001b[0m\u001b[1;33m=\u001b[0m\u001b[1;34m'center'\u001b[0m\u001b[1;33m,\u001b[0m \u001b[0mcolor\u001b[0m\u001b[1;33m=\u001b[0m\u001b[1;34m'g'\u001b[0m\u001b[1;33m)\u001b[0m\u001b[1;33m\u001b[0m\u001b[0m\n\u001b[0;32m     14\u001b[0m     \u001b[0mplt\u001b[0m\u001b[1;33m.\u001b[0m\u001b[0mxticks\u001b[0m\u001b[1;33m(\u001b[0m\u001b[0mx\u001b[0m\u001b[1;33m,\u001b[0m \u001b[0mcubelist\u001b[0m\u001b[1;33m,\u001b[0m \u001b[0mrotation\u001b[0m\u001b[1;33m=\u001b[0m\u001b[1;34m'vertical'\u001b[0m\u001b[1;33m)\u001b[0m\u001b[1;33m\u001b[0m\u001b[0m\n",
      "\u001b[1;31mNameError\u001b[0m: name 'ax' is not defined"
     ]
    }
   ],
   "source": [
    "cubes = [cube517, cube532, cubeClaire]\n",
    "dyes = [dyeSG, dyeYOYO]\n",
    "\n",
    "cubelist = [cube.channel for cube in cubes]\n",
    "dyelist = [dye.name for dye in dyes]\n",
    "\n",
    "for idx, dye in enumerate(dyes):\n",
    "    sig = []\n",
    "    for cube in cubes:\n",
    "        sig.append(signalFromDyeXInChannelY(l488, cube, dye, objective, camera)[2])\n",
    "    x = np.linspace(1,len(cubes), len(cubes))\n",
    "    ax = plt.subplot(1, len(dyes), idx+1)\n",
    "    plt.bar(x, sig, tick_label=cubelist, align='center', color='g')\n",
    "    plt.xticks(x, cubelist, rotation='vertical')\n",
    "    plt.ylim([0, 80000])\n",
    "    plt.ylabel('Signal, A.U.')\n",
    "    plt.title(dye.name)\n",
    "    plt.tight_layout()\n",
    "\n",
    "\n"
   ]
  },
  {
   "cell_type": "code",
   "execution_count": null,
   "metadata": {
    "collapsed": true
   },
   "outputs": [],
   "source": []
  }
 ],
 "metadata": {
  "kernelspec": {
   "display_name": "Python 3",
   "language": "python",
   "name": "python3"
  },
  "language_info": {
   "codemirror_mode": {
    "name": "ipython",
    "version": 3
   },
   "file_extension": ".py",
   "mimetype": "text/x-python",
   "name": "python",
   "nbconvert_exporter": "python",
   "pygments_lexer": "ipython3",
   "version": "3.5.3"
  }
 },
 "nbformat": 4,
 "nbformat_minor": 0
}
