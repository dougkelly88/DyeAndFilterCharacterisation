{
 "cells": [
  {
   "cell_type": "markdown",
   "metadata": {},
   "source": [
    "# Multiedge dichroic for integrated oEWOD instrument - feasibility\n",
    "\n",
    "## Motivation\n",
    "\n",
    "Being able to acquire fluorescence data on the oEWOD rig is necessary for an alpha instrument and would make R&D level experiments more streamlined. \n",
    "\n",
    "In the current system, we have six filter cubes that are mechanically moved through the optical path. This is impractical on an oEWOD system. In addition, we have five diode lasers. This increases the footprint and the cost (~£20K) of the instrument. \n",
    "\n",
    "Can we use a broadband source with a multiedge dichroic and excitation/emission filter wheels to integrate fluorescence detection onto a compact instrument? \n",
    "\n"
   ]
  },
  {
   "cell_type": "code",
   "execution_count": null,
   "metadata": {
    "collapsed": true
   },
   "outputs": [],
   "source": []
  }
 ],
 "metadata": {
  "kernelspec": {
   "display_name": "Python 3",
   "language": "python",
   "name": "python3"
  },
  "language_info": {
   "codemirror_mode": {
    "name": "ipython",
    "version": 3
   },
   "file_extension": ".py",
   "mimetype": "text/x-python",
   "name": "python",
   "nbconvert_exporter": "python",
   "pygments_lexer": "ipython3",
   "version": "3.5.3"
  }
 },
 "nbformat": 4,
 "nbformat_minor": 0
}
