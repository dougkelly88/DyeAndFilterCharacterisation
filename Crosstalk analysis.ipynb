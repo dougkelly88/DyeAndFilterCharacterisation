{
 "cells": [
  {
   "cell_type": "markdown",
   "metadata": {},
   "source": [
    "# Scan rig crosstalk analysis\n",
    "\n",
    "Background fluorescence in the 700 nm channel has been highlighted as a problem - particularly in scan rig 3, but also in the other two scan rigs. Narrowing the 700 channel emission filter will affect the % crosstalk performance. How much?\n",
    "\n",
    "First perform setup, including setting relative paths of spectra files. "
   ]
  },
  {
   "cell_type": "code",
   "execution_count": 26,
   "metadata": {
    "collapsed": false
   },
   "outputs": [],
   "source": [
    "import os\n",
    "import numpy as np\n",
    "import matplotlib.pyplot as plt\n",
    "\n",
    "from dye import Dye\n",
    "from laser import Laser\n",
    "from filterCube import FilterCube\n",
    "from camera import Camera\n",
    "from objective import Objective\n",
    "import utils\n",
    "from crosstalk_analysis import signalFromDyeXInChannelY\n",
    "from crosstalk_analysis import displayCrosstalkPlot\n",
    "\n",
    "dyesPath = 'Dye spectra/'\n",
    "filtersPath = 'Filter spectra/'\n",
    "opticsPath =  'Optics spectra/'\n",
    "cameraPath = 'Camera spectra/'"
   ]
  },
  {
   "cell_type": "markdown",
   "metadata": {},
   "source": [
    "__Sources for dye data:__\n",
    "\n",
    "Atto general properties: https://www.atto-tec.com/fileadmin/user_upload/Katalog_Flyer_Support/Dye_Properties_01.pdf\n",
    "\n",
    "Atto spectra: https://www.atto-tec.com/attotecshop/product_info.php?language=en&info=p117_ATTO-700.html\n",
    "\n",
    "Alexa 405 absorption coefficient: http://www.atdbio.com/content/34/Alexa-dyes\n",
    "\n",
    "Alexa 405 QY: http://confocal-microscopy-list.588098.n2.nabble.com/alexa-405-QY-td6913848.html\n",
    "\n",
    "Alexa 405 spectra: https://www.chroma.com/spectra-viewer?fluorochromes=10533\n",
    "\n",
    "\n",
    "__Sources for filter spectra:__\n",
    "\n",
    "Semrock filters: http://www.laser2000.co.uk\n",
    "\n",
    "Chroma 700 dichroics: emailed from Chroma\n",
    "\n",
    "\n",
    "__Sources for camera spectra:__\n",
    "\n",
    "Andor Zyla 5.5: https://searchlight.semrock.com/\n",
    "\n",
    "\n",
    "__Sources for optics (objective) spectra:__\n",
    "\n",
    "UPLANSAPO20x: https://www.olympus-lifescience.com/en/objectives/uplsapo/#!cms[tab]=%2Fobjectives%2Fuplsapo%2F20x, data extracted from curve using WebPlotDigitiser: http://arohatgi.info/WebPlotDigitizer/app/\n",
    "\n",
    "\n",
    "Next, define (manually and in a boilerplate-y manner) the components of the system we are investigating. "
   ]
  },
  {
   "cell_type": "code",
   "execution_count": 27,
   "metadata": {
    "collapsed": false
   },
   "outputs": [
    {
     "data": {
      "image/png": "[encoded data removed]",
      "text/plain": [
       "<matplotlib.figure.Figure at 0x158db543208>"
      ]
     },
     "metadata": {},
     "output_type": "display_data"
    }
   ],
   "source": [
    "dye405 = Dye(name = 'Alexa405', epsilon = 35000, qy = 0.54, \n",
    "             absSpectrum = os.path.join(dyesPath, 'Alexa405abs.txt'), \n",
    "             emSpectrum = os.path.join(dyesPath, 'Alexa405em.txt'))\n",
    "          \n",
    "dye532 = Dye(name = 'Atto532', epsilon = 115000, qy = 0.9, \n",
    "             absSpectrum = os.path.join(dyesPath, 'ATTO532_PBS.abs.txt'), \n",
    "             emSpectrum = os.path.join(dyesPath, 'ATTO532_PBS.ems.txt'))\n",
    "\n",
    "dye594 = Dye(name = 'Atto594', epsilon = 120000, qy = 0.85, \n",
    "             absSpectrum = os.path.join(dyesPath, 'ATTO594_PBS.abs.txt'), \n",
    "             emSpectrum = os.path.join(dyesPath, 'ATTO594_PBS.ems.txt'))\n",
    "\n",
    "dye633 = Dye(name = \"Atto655\", epsilon = 125000, qy = 0.3, \n",
    "          absSpectrum = os.path.join(dyesPath, 'ATTO655_PBS.abs.txt'), \n",
    "          emSpectrum = os.path.join(dyesPath, 'ATTO655_PBS.ems.txt') )        \n",
    "\n",
    "dye700 = Dye(name = \"Atto700\", epsilon = 120000, qy = 0.25, \n",
    "          absSpectrum = os.path.join(dyesPath, 'ATTO700_PBS.abs.txt'), \n",
    "          emSpectrum = os.path.join(dyesPath, 'ATTO700_PBS.ems.txt') )         \n",
    "          \n",
    "l405 = Laser(channel = 'L405Nm', centreWavelengthNm = 405, fwhmNm = 0.01, \n",
    "             laserOutputPowerMw = 3)\n",
    "             \n",
    "l532 = Laser(channel = 'L532Nm', centreWavelengthNm = 532, fwhmNm = 0.01, \n",
    "             laserOutputPowerMw = 18)\n",
    "             \n",
    "l594 = Laser(channel = 'L594Nm', centreWavelengthNm = 594, fwhmNm = 0.01, \n",
    "             laserOutputPowerMw = 25)             \n",
    "          \n",
    "l633 = Laser(channel = 'L633Nm', centreWavelengthNm = 640, fwhmNm = 0.01, \n",
    "             laserOutputPowerMw = 30)\n",
    "          \n",
    "l700 = Laser(channel = 'L700Nm', centreWavelengthNm = 701, fwhmNm = 0.01, \n",
    "             laserOutputPowerMw = 30)\n",
    "             \n",
    "fc405 = FilterCube(channel = 'L405Nm', \n",
    "                   excitationFilter = ( 'FF01-390_40', os.path.join(filtersPath, 'FF01-390_40_Spectrum.txt') ), \n",
    "                   dichroicFilter = ( 'Di02-R405', os.path.join(filtersPath, 'Di02-R405_Spectrum.txt') ), \n",
    "                   emissionFilter = ( 'FF01-452_45', os.path.join(filtersPath, 'FF01-452_45_Spectrum.txt') ) )\n",
    "                   \n",
    "fc532 = FilterCube(channel = 'L532Nm', \n",
    "                   excitationFilter = ( 'FF01-532_3', os.path.join(filtersPath, 'FF01-532_3_spectrum.txt') ), \n",
    "                   dichroicFilter = ( 'Di02-R532', os.path.join(filtersPath, 'Di02-R532_Spectrum.txt') ), \n",
    "                   emissionFilter = ( 'FF01-562_40', os.path.join(filtersPath, 'FF01-562_40_spectrum.txt') ) )\n",
    "                   \n",
    "fc594 = FilterCube(channel = 'L594Nm', \n",
    "                   excitationFilter = ( 'FF01-591_6', os.path.join(filtersPath, 'FF01-591_6_Spectrum.txt') ), \n",
    "                   dichroicFilter = ( 'Di02-R594', os.path.join(filtersPath, 'Di02-R594_Spectrum.txt') ), \n",
    "                   emissionFilter = ( 'FF01-647_57', os.path.join(filtersPath, 'FF01-647_57_Spectrum.txt') ) )\n",
    "             \n",
    "fc633 = FilterCube(channel = 'L633Nm', \n",
    "                   excitationFilter = ( 'FF01-640_14', os.path.join(filtersPath, 'FF01-640_14_spectrum.txt') ), \n",
    "                   dichroicFilter = ( 'Di02-R635', os.path.join(filtersPath, 'Di02-R635_Spectrum.txt') ), \n",
    "                   emissionFilter = ( 'FF01-679_41', os.path.join(filtersPath, 'FF01-679_41_Spectrum.txt') ) )\n",
    "                   \n",
    "fc700old = FilterCube(channel = 'L700Nm', \n",
    "                   excitationFilter = ( 'FF01-692_40', os.path.join(filtersPath, 'FF01-692_40_Spectrum.txt') ), \n",
    "                   dichroicFilter = ( '725dcxxr', os.path.join(filtersPath, 'Chroma 725dcxxr.txt') ), \n",
    "                   emissionFilter = ( 'FF01-795_150', os.path.join(filtersPath, 'FF01-795_150_Spectrum.txt') ) )\n",
    "                   \n",
    "fc700new = FilterCube(channel = 'L700Nm', \n",
    "                   excitationFilter = ( 'FF01-692_40', os.path.join(filtersPath, 'FF01-692_40_Spectrum.txt') ), \n",
    "                   dichroicFilter = ( '725lpxr', os.path.join(filtersPath, 'Chroma 725lpxr.txt') ), \n",
    "                   emissionFilter = ( 'FF01-747_33', os.path.join(filtersPath, 'FF01-747_33_Spectrum.txt') ) )\n",
    "                   \n",
    "                   \n",
    "camera = Camera(name = 'Andor Zyla 5.5', \n",
    "                qeCurve = os.path.join(cameraPath, 'Camera sCMOS (Andor- Zyla 5.5).txt'))\n",
    "\n",
    "objective = Objective(name = 'Olympus UPLANSAPO20x 0.75NA', \n",
    "                      transmissionCurve = os.path.join(opticsPath, 'Olympus UPLANSAPO20x.txt'))\n",
    "\n"
   ]
  },
  {
   "cell_type": "markdown",
   "metadata": {
    "collapsed": true
   },
   "source": [
    "Perfom a direct comparison of the crosstalk from 633 dye into the old and new 700 nm detection channels. "
   ]
  },
  {
   "cell_type": "code",
   "execution_count": 28,
   "metadata": {
    "collapsed": false
   },
   "outputs": [
    {
     "name": "stdout",
     "output_type": "stream",
     "text": [
      "Crosstalk from 633 in old 700 channel as a % of signal:\n",
      "1.82506941578\n",
      "Crosstalk from 633 in new 700 channel as a % of signal:\n",
      "2.01371409331\n"
     ]
    }
   ],
   "source": [
    "d, ch, sig = signalFromDyeXInChannelY(l700, fc700old, dye700, objective, camera)\n",
    "d, ch, ct = signalFromDyeXInChannelY(l700, fc700old, dye633, objective, camera)\n",
    "\n",
    "print('Crosstalk from 633 in old 700 channel as a % of signal:')\n",
    "ct_old = 100*ct/sig\n",
    "print(ct_old)\n",
    "\n",
    "d, ch, sig = signalFromDyeXInChannelY(l700, fc700new, dye700, objective, camera)\n",
    "d, ch, ct = signalFromDyeXInChannelY(l700, fc700new, dye633, objective, camera)\n",
    "\n",
    "print('Crosstalk from 633 in new 700 channel as a % of signal:')\n",
    "ct_new = 100*ct/sig\n",
    "print(ct_new)\n"
   ]
  },
  {
   "cell_type": "code",
   "execution_count": 5,
   "metadata": {
    "collapsed": false
   },
   "outputs": [
    {
     "data": {
      "text/plain": [
       "<matplotlib.text.Text at 0x158db3cb940>"
      ]
     },
     "execution_count": 5,
     "metadata": {},
     "output_type": "execute_result"
    },
    {
     "data": {
      "image/png": "[encoded data removed]",
      "text/plain": [
       "<matplotlib.figure.Figure at 0x158db088eb8>"
      ]
     },
     "metadata": {},
     "output_type": "display_data"
    }
   ],
   "source": [
    "% matplotlib inline\n",
    "plt.bar([1, 2], [ct_old, ct_new], width=[1, 1], tick_label=['Old 700nm filters', 'New 700nm filters'], \n",
    "        align='center', color=[(0.7 ,0.3, 0.3), (0.8, 0.2, 0.2)])\n",
    "plt.ylabel('% crosstalk')"
   ]
  },
  {
   "cell_type": "code",
   "execution_count": 29,
   "metadata": {
    "collapsed": false
   },
   "outputs": [
    {
     "name": "stderr",
     "output_type": "stream",
     "text": [
      "C:\\Users\\d.kelly\\Documents\\DyeAnalysis\\crosstalk_analysis.py:96: RuntimeWarning: divide by zero encountered in log10\n",
      "  plt.imshow(np.log10(crosstalkMatrix), cmap = 'Reds', interpolation='none')\n"
     ]
    },
    {
     "data": {
      "image/png": "[encoded data removed]",
      "text/plain": [
       "<matplotlib.figure.Figure at 0x158db56e080>"
      ]
     },
     "metadata": {},
     "output_type": "display_data"
    },
    {
     "data": {
      "text/plain": [
       "array([[  9.99999970e-01,   6.99098637e-09,   1.97068485e-08,\n",
       "          2.63177022e-09,   1.12792886e-09],\n",
       "       [  0.00000000e+00,   9.98966847e-01,   1.03313858e-03,\n",
       "          9.12676634e-09,   5.02826886e-09],\n",
       "       [  0.00000000e+00,   1.32754106e-04,   9.54331344e-01,\n",
       "          4.51905361e-02,   3.45366027e-04],\n",
       "       [  0.00000000e+00,   0.00000000e+00,   7.99107899e-02,\n",
       "          8.62085629e-01,   5.80035810e-02],\n",
       "       [  0.00000000e+00,   0.00000000e+00,   0.00000000e+00,\n",
       "          1.97396410e-02,   9.80260359e-01]])"
      ]
     },
     "execution_count": 29,
     "metadata": {},
     "output_type": "execute_result"
    }
   ],
   "source": [
    "displayCrosstalkPlot([l405, l532, l594, l633, l700], \n",
    "                     [fc405, fc532, fc594, fc633, fc700new], \n",
    "                     [dye405, dye532, dye594, dye633, dye700], \n",
    "                     objective, camera)"
   ]
  },
  {
   "cell_type": "code",
   "execution_count": null,
   "metadata": {
    "collapsed": false
   },
   "outputs": [],
   "source": []
  },
  {
   "cell_type": "code",
   "execution_count": null,
   "metadata": {
    "collapsed": true
   },
   "outputs": [],
   "source": []
  }
 ],
 "metadata": {
  "kernelspec": {
   "display_name": "Python 3",
   "language": "python",
   "name": "python3"
  },
  "language_info": {
   "codemirror_mode": {
    "name": "ipython",
    "version": 3
   },
   "file_extension": ".py",
   "mimetype": "text/x-python",
   "name": "python",
   "nbconvert_exporter": "python",
   "pygments_lexer": "ipython3",
   "version": "3.5.3"
  }
 },
 "nbformat": 4,
 "nbformat_minor": 0
}
